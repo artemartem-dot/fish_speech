{
  "cells": [
    {
      "cell_type": "code",
      "execution_count": null,
      "metadata": {
        "colab": {
          "background_save": true
        },
        "id": "VjYy0F2gZIPR"
      },
      "outputs": [],
      "source": [
        "# fish_speech\n",
        "!pip install pygit2==1.15.1\n",
        "%cd /content\n",
        "!git clone https://github.com/shaitanzx/fish_speech.git\n",
        "\n",
        "%cd /content/fish_speech\n",
        "!pip install torch==2.3.0 torchvision==0.18.0 torchaudio==2.3.0 --extra-index-url https://download.pytorch.org/whl/cu118\n",
        "!pip install -r requirements.txt\n",
        "!python main.py --share True\n"
      ]
    }
  ],
  "metadata": {
    "accelerator": "GPU",
    "colab": {
      "gpuType": "T4",
      "provenance": []
    },
    "kernelspec": {
      "display_name": "Python 3",
      "name": "python3"
    },
    "language_info": {
      "name": "python"
    }
  },
  "nbformat": 4,
  "nbformat_minor": 0
}